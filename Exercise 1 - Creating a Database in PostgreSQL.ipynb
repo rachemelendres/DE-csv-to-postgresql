{
 "cells": [
  {
   "cell_type": "markdown",
   "id": "64caaff1",
   "metadata": {},
   "source": [
    "# Creating a Database in PostgreSQL"
   ]
  },
  {
   "cell_type": "code",
   "execution_count": 1,
   "id": "6620a7dd",
   "metadata": {},
   "outputs": [
    {
     "name": "stdout",
     "output_type": "stream",
     "text": [
      "Collecting psycopg2\n",
      "  Downloading psycopg2-2.9.6-cp37-cp37m-win_amd64.whl (1.2 MB)\n",
      "     ---------------------------------------- 1.2/1.2 MB 9.1 MB/s eta 0:00:00\n",
      "Installing collected packages: psycopg2\n",
      "Successfully installed psycopg2-2.9.6\n"
     ]
    },
    {
     "name": "stderr",
     "output_type": "stream",
     "text": [
      "\n",
      "[notice] A new release of pip available: 22.2.2 -> 23.0.1\n",
      "[notice] To update, run: python.exe -m pip install --upgrade pip\n"
     ]
    }
   ],
   "source": [
    "!pip install psycopg2"
   ]
  },
  {
   "cell_type": "code",
   "execution_count": 2,
   "id": "3c95114c",
   "metadata": {},
   "outputs": [],
   "source": [
    "import psycopg2"
   ]
  },
  {
   "cell_type": "code",
   "execution_count": 11,
   "id": "d7a143d7",
   "metadata": {},
   "outputs": [],
   "source": [
    "def connect_to_postgresql(host, db, username, pw):\n",
    "    conn = psycopg2.connect(\n",
    "        host=host,\n",
    "        database=db,\n",
    "        user=username,\n",
    "        password=pw\n",
    "    )\n",
    "\n",
    "    cur = conn.cursor()\n",
    "\n",
    "    conn.set_session(autocommit=True)\n",
    "\n",
    "    return cur, conn"
   ]
  },
  {
   "cell_type": "code",
   "execution_count": 12,
   "id": "008a1092",
   "metadata": {},
   "outputs": [],
   "source": [
    "cur, conn = connect_to_postgresql(\"localhost\", \"postgres\", \"postgres\", \"K@kogawa92\")"
   ]
  },
  {
   "cell_type": "code",
   "execution_count": null,
   "id": "bffaf339",
   "metadata": {},
   "outputs": [],
   "source": [
    "cur.execute(\"create database myfirstdb\")"
   ]
  },
  {
   "cell_type": "code",
   "execution_count": 17,
   "id": "a13e3e55",
   "metadata": {},
   "outputs": [],
   "source": [
    "cur, conn = connect_to_postgresql(\"localhost\", \"myfirstdb\", \"postgres\", \"K@kogawa92\")"
   ]
  },
  {
   "cell_type": "code",
   "execution_count": 20,
   "id": "29899c88",
   "metadata": {},
   "outputs": [],
   "source": [
    "cur.execute(\"\"\"\n",
    "    CREATE TABLE IF NOT EXISTS students (\n",
    "        id SERIAL PRIMARY KEY,\n",
    "        name VARCHAR(255),\n",
    "        age INTEGER,\n",
    "        gender VARCHAR(10),\n",
    "        subject varchar,\n",
    "        marks int\n",
    "    )\n",
    "\"\"\")"
   ]
  },
  {
   "cell_type": "code",
   "execution_count": 21,
   "id": "1ae11c96",
   "metadata": {},
   "outputs": [],
   "source": [
    "cur.execute(\"\"\"INSERT INTO students (name, age, gender, subject, marks) VALUES\n",
    "    ('Alice', 20, 'F', 'Python', 94 ),\n",
    "    ('Bob', 22, 'M', 'JavaScript', 87)\n",
    "\"\"\")"
   ]
  },
  {
   "cell_type": "code",
   "execution_count": 22,
   "id": "f40ff6b0",
   "metadata": {},
   "outputs": [
    {
     "name": "stdout",
     "output_type": "stream",
     "text": [
      "(1, 'Alice', 20, 'F', 'Python', 94)\n",
      "(2, 'Bob', 22, 'M', 'JavaScript', 87)\n"
     ]
    }
   ],
   "source": [
    "cur.execute(\"SELECT * FROM students\")\n",
    "\n",
    "rows = cur.fetchall()\n",
    "\n",
    "for row in rows:\n",
    "    print(row)"
   ]
  },
  {
   "cell_type": "code",
   "execution_count": 23,
   "id": "4d83e47c",
   "metadata": {},
   "outputs": [],
   "source": [
    "conn.close()"
   ]
  },
  {
   "cell_type": "code",
   "execution_count": null,
   "id": "38beed39",
   "metadata": {},
   "outputs": [],
   "source": []
  }
 ],
 "metadata": {
  "kernelspec": {
   "display_name": "Python 3",
   "language": "python",
   "name": "python3"
  },
  "language_info": {
   "codemirror_mode": {
    "name": "ipython",
    "version": 3
   },
   "file_extension": ".py",
   "mimetype": "text/x-python",
   "name": "python",
   "nbconvert_exporter": "python",
   "pygments_lexer": "ipython3",
   "version": "3.7.10"
  }
 },
 "nbformat": 4,
 "nbformat_minor": 5
}
